{
 "cells": [
  {
   "cell_type": "code",
   "execution_count": null,
   "metadata": {},
   "outputs": [],
   "source": [
    "import streamlit as st\n",
    "from Bio.SeqUtils import seq3, seq1\n",
    "from Bio.Seq import Seq\n",
    "\n",
    "# Configuración de la página\n",
    "st.set_page_config(page_title=\"Predicción de Estructuras Secundarias\", layout=\"wide\")\n",
    "\n",
    "# Título de la aplicación\n",
    "st.header(\"Predicción de Estructuras Secundarias de Proteínas\")\n",
    "\n",
    "# Subir secuencia de proteínas\n",
    "sequence_input = st.text_area(\"Introduce la secuencia de aminoácidos (en forma de una letra):\", height=200)\n",
    "\n",
    "if sequence_input:\n",
    "    try:\n",
    "        # Validar y limpiar secuencia\n",
    "        protein_sequence = Seq(sequence_input.strip().upper())\n",
    "        if not all(residue in \"ACDEFGHIKLMNPQRSTVWY\" for residue in protein_sequence):\n",
    "            st.error(\"La secuencia contiene caracteres no validos. Usa el formato de una letra para aminoácidos.\")\n",
    "        else:\n",
    "            # Mostrar información básica\n",
    "            st.subheader(\"Información Básica:\")\n",
    "            st.write(f\"Longitud de la secuencia: {len(protein_sequence)}aminoácidos\")\n",
    "            st.write(f\"Secuencia en formato de tres letras: {seq3(protein_sequence)}\")\n",
    "\n",
    "            # Predicción simple (basada en patrones)\n",
    "            st.subhearder(\"Predicción de Estructura Secundaria (Simple):\")\n",
    "            alpha_helix = sum(protein_sequence.count(res) for res in \"AEHKLMQ\")\n",
    "            beta_sheet = sum(protein_sequence.count(res) for res in \"FWYVITC\")\n",
    "            coil = len(protein_sequence) - (alpha_helix + beta_sheet)\n",
    "\n",
    "            st.write(f\"Residuo favorable para hélices α: {alpha_helix}\")\n",
    "            st.write(f\"Residuo favorable para láminas β: {beta_sheet}\")\n",
    "            st.write(f\"Residuo en conformación coil: {coil}\")\n",
    "\n",
    "            # Graficar distribución\n",
    "            st.subheader(\"Distribución de Estructuras Secundarias:\")\n",
    "            st.bar_chart({\"Hélices α\": alpha_helix, \"Láminas β\": beta_sheet, \"Coil\": coil})\n",
    "\n",
    "            # Posibilidad de predicción avanzada\n",
    "            st.info(\"Para predicciones avanzadas (PSIPRED, AlphaFold, etc.), se requiere integración con herramientas externas.\")\n",
    "    except Exception as e:\n",
    "        st.error(f\"Hubo un error procesando la secuencia: {e}\")\n",
    "else:\n",
    "    st.info(\"Introduce una secuencia de aminoácidos para comenzar.\")"
   ]
  }
 ],
 "metadata": {
  "language_info": {
   "name": "python"
  }
 },
 "nbformat": 4,
 "nbformat_minor": 2
}
